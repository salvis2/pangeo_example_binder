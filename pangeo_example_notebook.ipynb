{
 "cells": [
  {
   "cell_type": "markdown",
   "metadata": {},
   "source": [
    "# Example Binder\n",
    "\n",
    "This is a test binder. I used it to develop documentation on how to make binders so that the technology is more accessible to instructors and researchers everywhere.\n",
    "\n",
    "I will be accessing Landsat 8 data under the AWS Public Dataset Program: https://registry.opendata.aws/landsat-8/\n",
    "\n",
    "Launching the binder happens on AWS, so this should make it easier to load the data in cloud."
   ]
  },
  {
   "cell_type": "code",
   "execution_count": 1,
   "metadata": {},
   "outputs": [],
   "source": [
    "import numpy as np\n",
    "#import matplotlib.pyplot as plt\n",
    "#import scipy\n",
    "\n",
    "#import xarray as xr\n",
    "#import intake\n",
    "\n",
    "from dask_kubernetes import KubeCluster\n",
    "from dask.distributed import Client, LocalCluster\n",
    "from dask.distributed import wait, progress"
   ]
  },
  {
   "cell_type": "markdown",
   "metadata": {},
   "source": [
    "## Setup\n",
    "\n",
    "Two things we want to set up before we can do any analysis, which are both usually huge time-sinks.\n",
    "\n",
    "### Dask: Computational Power\n",
    "\n",
    "Dask will allow us to spin up a Kubernetes cluster on our AWS instance. This cluster can scale how many workers it uses when you run commands, so you can have faster computations but not pay for that resource when you're not using it."
   ]
  },
  {
   "cell_type": "code",
   "execution_count": null,
   "metadata": {
    "scrolled": false
   },
   "outputs": [],
   "source": [
    "cluster = KubeCluster()\n",
    "cluster.adapt(minimum=4, maximum=40)\n",
    "cluster"
   ]
  },
  {
   "cell_type": "code",
   "execution_count": null,
   "metadata": {},
   "outputs": [],
   "source": [
    "client = Client(cluster)"
   ]
  },
  {
   "cell_type": "markdown",
   "metadata": {},
   "source": [
    "### Intake: Data Ingestion\n",
    "\n",
    "One big problem with big data is that it is too big for most conventional laptops (which is what most researchers have). Getting onto a High-Performance Computer (HPC) can take a lot of time and authentication, which delays research. Having data on publicly-available cloud platforms removes the stress of setting up access, and computing on the same platform removes most of the time to get to your data."
   ]
  },
  {
   "cell_type": "code",
   "execution_count": null,
   "metadata": {},
   "outputs": [],
   "source": [
    "landsat_data = intake.open_catalog('arn:aws:s3:::landsat-pds')"
   ]
  },
  {
   "cell_type": "code",
   "execution_count": null,
   "metadata": {},
   "outputs": [],
   "source": []
  },
  {
   "cell_type": "code",
   "execution_count": null,
   "metadata": {},
   "outputs": [],
   "source": []
  },
  {
   "cell_type": "code",
   "execution_count": null,
   "metadata": {},
   "outputs": [],
   "source": []
  },
  {
   "cell_type": "code",
   "execution_count": null,
   "metadata": {},
   "outputs": [],
   "source": []
  },
  {
   "cell_type": "code",
   "execution_count": null,
   "metadata": {},
   "outputs": [],
   "source": []
  },
  {
   "cell_type": "code",
   "execution_count": null,
   "metadata": {},
   "outputs": [],
   "source": []
  }
 ],
 "metadata": {
  "kernelspec": {
   "display_name": "Python 3",
   "language": "python",
   "name": "python3"
  },
  "language_info": {
   "codemirror_mode": {
    "name": "ipython",
    "version": 3
   },
   "file_extension": ".py",
   "mimetype": "text/x-python",
   "name": "python",
   "nbconvert_exporter": "python",
   "pygments_lexer": "ipython3",
   "version": "3.7.4"
  }
 },
 "nbformat": 4,
 "nbformat_minor": 2
}
